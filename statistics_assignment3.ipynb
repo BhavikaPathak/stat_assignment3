{
 "cells": [
  {
   "cell_type": "markdown",
   "id": "b6050fba-fb26-43c8-aebe-e5941ee6d368",
   "metadata": {},
   "source": [
    "#                                   ANSWER 1\n",
    "The Probability Density Function(PDF) defines the probability function representing the density of a continuous random variable lying between a specific range of values. "
   ]
  },
  {
   "cell_type": "markdown",
   "id": "e18157b9-bb4f-4058-8957-07b9a590c83b",
   "metadata": {},
   "source": [
    "#                                     ANSWER 2\n",
    "Types of Probability distribution:\n",
    "1. Normal distribution\n",
    "2. binomial distribution\n",
    "3. poisson distribution\n",
    "4. uniform distribution\n",
    "5. log Normal distribution\n",
    "6. bernoulli distribution"
   ]
  },
  {
   "cell_type": "markdown",
   "id": "c4ff488c-4091-4a2b-9f1e-fe62f23803e2",
   "metadata": {},
   "source": [
    "#                                     ANSWER 3\n",
    "A normal distribution is a type of continuous probability distribution for a real-valued random variable. It is based on mean and standard deviation. The probability distribution function or PDF computes the likelihood of a single point in the distribution. The general formula to calculate PDF for the normal distribution is --->\n",
    "\n",
    "f(x) = (1 / (σ * √(2π))) * exp(-((x - μ)^2) / (2 * σ^2))\n",
    "\n",
    "where μ is the mean and σ is the standard deviation."
   ]
  },
  {
   "cell_type": "code",
   "execution_count": 4,
   "id": "e3fe9ef7-6e5c-4303-85f8-b9804bf00bb5",
   "metadata": {},
   "outputs": [
    {
     "data": {
      "text/plain": [
       "0.12951759566589174"
      ]
     },
     "execution_count": 4,
     "metadata": {},
     "output_type": "execute_result"
    }
   ],
   "source": [
    "import math\n",
    "def normal_pdf(x, mean, std_dev):\n",
    "    if std_dev <= 0:\n",
    "        raise ValueError(\"Standard deviation must be greater than 0\")\n",
    "\n",
    "    coefficient = 1 / (std_dev * math.sqrt(2 * math.pi))\n",
    "    exponent = -((x - mean) ** 2) / (2 * std_dev ** 2)\n",
    "    pdf_value = coefficient * math.exp(exponent)\n",
    "    return pdf_value\n",
    "mean = 0\n",
    "std_dev = 1\n",
    "point = 1.5\n",
    "pdf_value_at_point = normal_pdf(point, mean, std_dev)\n",
    "pdf_value_at_point"
   ]
  },
  {
   "cell_type": "markdown",
   "id": "407b8a83-3c2a-4316-a428-7caf16081a83",
   "metadata": {},
   "source": [
    "#                                      ANSWER 4\n",
    "The properties of the binomial distribution are:\n",
    "1. There are two possible outcomes: true or false, success or failure, yes or no.\n",
    "2. There is ‘n’ number of independent trials or a fixed number of n times repeated trials.\n",
    "3. The probability of success or failure remains the same for each trial.\n",
    "4. Only the number of success is calculated out of n independent trials.\n",
    "5. Every trial is an independent trial, which means the outcome of one trial does not affect the outcome of another trial.\n",
    "\n",
    "## For example, if we toss a coin, there could be only two possible outcomes: heads or tails, and if any test is taken, then there could be only two results: pass or fail. "
   ]
  },
  {
   "cell_type": "markdown",
   "id": "43335ee6-ed46-49cf-9be1-1d00e6cdbb24",
   "metadata": {},
   "source": [
    "# ANSWER 5"
   ]
  },
  {
   "cell_type": "code",
   "execution_count": 5,
   "id": "074be63f-7023-406c-a052-d814c8d5a622",
   "metadata": {},
   "outputs": [
    {
     "data": {
      "image/png": "[encoded data removed]",
      "text/plain": [
       "<Figure size 640x480 with 1 Axes>"
      ]
     },
     "metadata": {},
     "output_type": "display_data"
    }
   ],
   "source": [
    "import matplotlib.pyplot as plt\n",
    "import numpy as np\n",
    "from numpy import random\n",
    "x = random.binomial( n = 20 , p=0.4, size=1000)\n",
    "plt.hist(x)\n",
    "plt.show()"
   ]
  },
  {
   "cell_type": "markdown",
   "id": "fb941763-ed2c-4a2b-af6b-2dd8893b4f2d",
   "metadata": {},
   "source": [
    "#                                           ANSWER 6"
   ]
  },
  {
   "cell_type": "code",
   "execution_count": 10,
   "id": "94e55c78-83c2-45ed-9dbc-0b14f1c0dbdb",
   "metadata": {},
   "outputs": [
    {
     "data": {
      "text/plain": [
       "0.7575761331330659"
      ]
     },
     "execution_count": 10,
     "metadata": {},
     "output_type": "execute_result"
    }
   ],
   "source": [
    "def poisson_cdf(k, mean):\n",
    "    if k < 0:\n",
    "        raise ValueError(\"The point 'k' must be a non-negative integer.\")\n",
    "\n",
    "    if mean < 0:\n",
    "        raise ValueError(\"The mean of the Poisson distribution must be non-negative.\")\n",
    "\n",
    "    cdf_value = 0\n",
    "    poisson_term = math.exp(-mean)\n",
    "\n",
    "    for i in range(k + 1):\n",
    "        cdf_value += (poisson_term * (mean ** i)) / math.factorial(i)\n",
    "\n",
    "    return cdf_value\n",
    "mean = 2.5\n",
    "point = 3\n",
    "cdf_value_at_point = poisson_cdf(point, mean)\n",
    "cdf_value_at_point"
   ]
  },
  {
   "cell_type": "markdown",
   "id": "c0d24277-e45c-46dd-9cf7-84b3a3cea162",
   "metadata": {},
   "source": [
    "#                                    ANSWER 7\n",
    "Binomial distribution describes the distribution of binary data from a finite sample. Thus it gives the probability of getting r events out of n trials. Poisson distribution describes the distribution of binary data from an infinite sample. Thus it gives the probability of getting r events in a population."
   ]
  },
  {
   "cell_type": "markdown",
   "id": "df764519-7558-4dc5-837a-e194ced42e1f",
   "metadata": {},
   "source": [
    "# ANSWER 8 "
   ]
  },
  {
   "cell_type": "code",
   "execution_count": 12,
   "id": "1ca69dd5-6eb3-463b-ac86-1d4c3e5dd966",
   "metadata": {},
   "outputs": [
    {
     "name": "stdout",
     "output_type": "stream",
     "text": [
      " sample_mean is :  4.872\n",
      " sample_variance is :  4.772388388388389\n"
     ]
    }
   ],
   "source": [
    "import numpy as np\n",
    "\n",
    "def calculate_sample_mean(sample):\n",
    "    return np.mean(sample)\n",
    "\n",
    "def calculate_sample_variance(sample):\n",
    "    return np.var(sample, ddof=1) \n",
    "\n",
    "sample_size = 1000\n",
    "mean = 5\n",
    "sample = np.random.poisson(mean, size=sample_size)\n",
    "sample_mean = calculate_sample_mean(sample)\n",
    "sample_variance = calculate_sample_variance(sample)\n",
    "\n",
    "print(\" sample_mean is : \" , sample_mean)\n",
    "print(\" sample_variance is : \", sample_variance)"
   ]
  },
  {
   "cell_type": "markdown",
   "id": "896db19b-dcdd-40ba-a097-c89d7a2b29ad",
   "metadata": {},
   "source": [
    "#                                                     ANSWER 9\n",
    "The mean and the variance of the Poisson distribution are the same, which is equal to the average number of successes that occur in the given interval of time.\n",
    "\n",
    "The mean of the binomial distribution is np, and the variance of the binomial distribution is np (1 − p). When p = 0.5, the distribution is symmetric around the mean—such as when flipping a coin because the chances of getting heads or tails is 50%, or 0.5. When p > 0.5, the distribution curve is skewed to the left."
   ]
  },
  {
   "cell_type": "markdown",
   "id": "badb74a2-53e9-438e-858c-2cbe6238345f",
   "metadata": {},
   "source": [
    "#                                                      ANSWER 10\n",
    "In a normal distribution, the least frequent data points appear at the tails of the distribution, farthest away from the mean. The normal distribution is a symmetric distribution, meaning that it is evenly distributed around the mean. The highest frequency of data points is centered around the mean, and as we move away from the mean in either direction, the frequency of data points decreases."
   ]
  },
  {
   "cell_type": "code",
   "execution_count": null,
   "id": "1d027dce-48f6-4602-af76-995ff81a4656",
   "metadata": {},
   "outputs": [],
   "source": []
  },
  {
   "cell_type": "code",
   "execution_count": null,
   "id": "374d6682-9ad7-4161-8a87-9ae892fe1d79",
   "metadata": {},
   "outputs": [],
   "source": []
  },
  {
   "cell_type": "code",
   "execution_count": null,
   "id": "3b32ff6c-d3b6-4a54-a3f1-7ea026aab4b2",
   "metadata": {},
   "outputs": [],
   "source": []
  }
 ],
 "metadata": {
  "kernelspec": {
   "display_name": "Python 3 (ipykernel)",
   "language": "python",
   "name": "python3"
  },
  "language_info": {
   "codemirror_mode": {
    "name": "ipython",
    "version": 3
   },
   "file_extension": ".py",
   "mimetype": "text/x-python",
   "name": "python",
   "nbconvert_exporter": "python",
   "pygments_lexer": "ipython3",
   "version": "3.10.8"
  }
 },
 "nbformat": 4,
 "nbformat_minor": 5
}
